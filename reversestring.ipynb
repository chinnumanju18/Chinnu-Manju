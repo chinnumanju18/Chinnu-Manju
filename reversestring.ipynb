{
  "nbformat": 4,
  "nbformat_minor": 0,
  "metadata": {
    "colab": {
      "provenance": [],
      "authorship_tag": "ABX9TyNkO8uoGjeCrTM55igMTNLB",
      "include_colab_link": true
    },
    "kernelspec": {
      "name": "python3",
      "display_name": "Python 3"
    },
    "language_info": {
      "name": "python"
    }
  },
  "cells": [
    {
      "cell_type": "markdown",
      "metadata": {
        "id": "view-in-github",
        "colab_type": "text"
      },
      "source": [
        "<a href=\"https://colab.research.google.com/github/chinnumanju18/Chinnu-Manju/blob/main/reversestring.ipynb\" target=\"_parent\"><img src=\"https://colab.research.google.com/assets/colab-badge.svg\" alt=\"Open In Colab\"/></a>"
      ]
    },
    {
      "cell_type": "code",
      "execution_count": 1,
      "metadata": {
        "colab": {
          "base_uri": "https://localhost:8080/"
        },
        "id": "jGi2IPJckivP",
        "outputId": "b42ee9d3-201f-4f66-bcda-7cd11d9a0013"
      },
      "outputs": [
        {
          "output_type": "stream",
          "name": "stdout",
          "text": [
            "enter a string:hello world\n",
            "dlrow olleh\n"
          ]
        }
      ],
      "source": [
        "# prompt: create dictionary with the help of key and value\n",
        "\n",
        "def reverse_string(s):\n",
        "    return s[::-1]\n",
        "\n",
        "# Example usage\n",
        "original_string =input(\"enter a string:\")\n",
        "reversed_string = reverse_string(original_string)\n",
        "print(reversed_string)"
      ]
    }
  ]
}