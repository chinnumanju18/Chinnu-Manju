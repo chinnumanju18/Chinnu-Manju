{
  "nbformat": 4,
  "nbformat_minor": 0,
  "metadata": {
    "colab": {
      "provenance": [],
      "authorship_tag": "ABX9TyOq/0tBJPXphtZAvLoZMlwP",
      "include_colab_link": true
    },
    "kernelspec": {
      "name": "python3",
      "display_name": "Python 3"
    },
    "language_info": {
      "name": "python"
    }
  },
  "cells": [
    {
      "cell_type": "markdown",
      "metadata": {
        "id": "view-in-github",
        "colab_type": "text"
      },
      "source": [
        "<a href=\"https://colab.research.google.com/github/chinnumanju18/Chinnu-Manju/blob/main/moodtracker.ipynb\" target=\"_parent\"><img src=\"https://colab.research.google.com/assets/colab-badge.svg\" alt=\"Open In Colab\"/></a>"
      ]
    },
    {
      "cell_type": "code",
      "execution_count": 1,
      "metadata": {
        "colab": {
          "base_uri": "https://localhost:8080/"
        },
        "id": "vkX3AvMNjnfK",
        "outputId": "b2d8cb5f-3800-40ca-a4c7-7e05d8c28638"
      },
      "outputs": [
        {
          "output_type": "stream",
          "name": "stdout",
          "text": [
            "How are you feeling today? happy\n",
            "Bot: That's great to hear! I'm happy for you.\n"
          ]
        }
      ],
      "source": [
        "# prompt: create moodtracker chatbot using dictionary\n",
        "\n",
        "def chatbot(user_input):\n",
        "    mood_responses = {\n",
        "        \"happy\": \"That's great to hear! I'm happy for you.\",\n",
        "        \"sad\": \"I'm sorry to hear that. Is there anything I can do to help?\",\n",
        "        \"angry\": \"Take a deep breath. Sometimes it's good to vent. Want to talk about it?\",\n",
        "        \"anxious\": \"I understand. Anxiety can be tough. Have you tried any relaxation techniques?\",\n",
        "        \"stressed\": \"Stressful times, huh? Maybe some mindfulness or exercise could help.\",\n",
        "        \"default\": \"I'm not sure I understand. Can you describe your mood a bit more?\"\n",
        "    }\n",
        "\n",
        "    for mood in mood_responses:\n",
        "        if mood in user_input.lower():\n",
        "            return mood_responses[mood]\n",
        "\n",
        "    return mood_responses[\"default\"]\n",
        "\n",
        "# Example usage\n",
        "user_input = input(\"How are you feeling today? \")\n",
        "bot_response = chatbot(user_input)\n",
        "print(\"Bot:\", bot_response)"
      ]
    }
  ]
}